{
 "cells": [
  {
   "cell_type": "code",
   "execution_count": 1,
   "id": "e307202d",
   "metadata": {},
   "outputs": [],
   "source": [
    "import pandas as pd\n",
    "import datetime "
   ]
  },
  {
   "cell_type": "code",
   "execution_count": 2,
   "id": "d988d584",
   "metadata": {},
   "outputs": [],
   "source": [
    "from openpyxl import load_workbook\n",
    "\n",
    "def get_sheetnames_xlsx(filepath):\n",
    "    wb = load_workbook(filepath, read_only=True, keep_links=False)\n",
    "    return wb.sheetnames\n",
    "\n",
    "days = get_sheetnames_xlsx('Tab.xlsx')"
   ]
  },
  {
   "cell_type": "code",
   "execution_count": 3,
   "id": "27a9888b",
   "metadata": {},
   "outputs": [],
   "source": [
    "att = pd.read_excel('Temp/Uchw.xls', header=None, usecols='B,E', skiprows=3)"
   ]
  },
  {
   "cell_type": "code",
   "execution_count": 4,
   "id": "9154fc50",
   "metadata": {},
   "outputs": [],
   "source": [
    "def checkList(list):\n",
    "    # funkcja sprawdzająca czy wszystkie elementy w podanej liście są takie same\n",
    "    ele = list[0]\n",
    "    chk = True\n",
    "    for i in list:\n",
    "        if ele != i:\n",
    "            chk = False\n",
    "            break;\n",
    "    return chk"
   ]
  },
  {
   "cell_type": "code",
   "execution_count": 5,
   "id": "213f2264",
   "metadata": {},
   "outputs": [],
   "source": [
    "def table_maker(at,sheetname):\n",
    "\n",
    "    # wczytanie pliku, modyfikacja i zapis do pliku\n",
    "    df = pd.read_excel('Tab.xlsx', sheet_name=sheetname, header=None, engine='openpyxl')\n",
    "    \n",
    "    for ind, row in enumerate(df.values[1:]):\n",
    "        lst = [str(j) for j in row[4:]]\n",
    "        if checkList(lst):\n",
    "            df.drop(ind+1, inplace=True)\n",
    "\n",
    "    for num in range(len(df[0])):\n",
    "        for nr in range(len(at[4])):\n",
    "            if df.iloc[num,0] == at.iloc[nr,1]:\n",
    "                df.iloc[num,1] = at.iloc[nr,0]\n",
    "    \n",
    "    df.iloc[0,0] = 'nr słupka'\n",
    "    df.iloc[0,1] = 'Przystanek'\n",
    "    df.iloc[1,2] = ''\n",
    "    df.iloc[1,3] = ''\n",
    "    \n",
    "    row_count = len(df[0])-1\n",
    "    if sheetname == 'R1' or sheetname == 'R2':\n",
    "        title = pd.DataFrame({0: [f'{df.iloc[1,1]} - {df.iloc[row_count,1]} - DNI ROBOCZE', ' ']}, index=[0,1])\n",
    "    elif sheetname == 'S1' or sheetname == 'S2':\n",
    "        title = pd.DataFrame({0: [f'{df.iloc[1,1]} - {df.iloc[row_count,1]} - SOBOTY', ' ']}, index=[0,1])\n",
    "    elif sheetname == 'N1' or sheetname == 'N2':\n",
    "        title = pd.DataFrame({0: [f'{df.iloc[1,1]} - {df.iloc[row_count,1]} - NIEDZIELE', ' ']}, index=[0,1])\n",
    "    else:\n",
    "        title = pd.DataFrame({0: ['']}, index=[0])\n",
    "    df = pd.concat([title, df]).reset_index(drop=True)\n",
    "    return df"
   ]
  },
  {
   "cell_type": "code",
   "execution_count": 6,
   "id": "c685d6ec",
   "metadata": {},
   "outputs": [],
   "source": [
    "def row_len(data,row):\n",
    "    list = []\n",
    "    for i in range(len(data.columns)):\n",
    "        if type(data.iloc[row,i]) != float:\n",
    "            list.append(data.iloc[row,i])\n",
    "    return len(list)\n",
    "    \n"
   ]
  },
  {
   "cell_type": "code",
   "execution_count": 7,
   "id": "03053132",
   "metadata": {},
   "outputs": [],
   "source": [
    "tables = [table_maker(att,day) for day in days]"
   ]
  },
  {
   "cell_type": "code",
   "execution_count": 8,
   "id": "00596eca",
   "metadata": {},
   "outputs": [],
   "source": [
    "df2 = pd.concat([t for t in tables]).reset_index(drop=True)"
   ]
  },
  {
   "cell_type": "code",
   "execution_count": 9,
   "id": "e5108ee6",
   "metadata": {},
   "outputs": [],
   "source": [
    "df2.to_excel('Zalacznik.xlsx', sheet_name = 'Arkusz1', engine = 'openpyxl')"
   ]
  },
  {
   "cell_type": "code",
   "execution_count": 10,
   "id": "b1728785",
   "metadata": {},
   "outputs": [],
   "source": [
    "# utworzenie listy kolumn z excela\n",
    "letters = [chr(let+65) for let in range(26)]\n",
    "exc_cols = [chr(i+65) if ord(chr(i+65)) < 91 else f'{letters[(i-26)//26]}{letters[(i-26)%26]}' for i in range(len(df2.columns))]\n",
    "w1 = False\n",
    "ns = 0"
   ]
  },
  {
   "cell_type": "code",
   "execution_count": 11,
   "id": "a47368fc",
   "metadata": {},
   "outputs": [],
   "source": [
    "writer = pd.ExcelWriter('Zalacznik.xlsx', engine='xlsxwriter')\n",
    "workbook = writer.book\n",
    "    \n",
    "date_format = workbook.add_format({\n",
    "    'num_format': 'HH:MM',\n",
    "    'align': 'center',\n",
    "    'valign': 'vcenter',\n",
    "    'font_name': 'Arial Narrow',\n",
    "    'font_size': 10})\n",
    "cell_format = workbook.add_format({\n",
    "    'align': 'center',\n",
    "    'valign': 'vcenter',\n",
    "    'font_name': 'Arial Narrow',\n",
    "    'font_size': 10})\n",
    "\n",
    "border_format = workbook.add_format({\n",
    "    'border': 1})\n",
    "\n",
    "busstop_format = workbook.add_format({\n",
    "    'align': 'left',\n",
    "    'valign': 'vcenter',\n",
    "    'font_name': 'Arial Narrow',\n",
    "    'font_size': 10})\n",
    "    \n",
    "title_format = workbook.add_format({\n",
    "    'align': 'left',\n",
    "    'valign': 'vcenter',\n",
    "    'font_name': 'Arial Narrow',\n",
    "    'font_size': 18})\n",
    "\n",
    "header1_format = workbook.add_format({\n",
    "    'font_name': 'Times New Roman',\n",
    "    'font_size': 18})\n",
    "\n",
    "header2_format = workbook.add_format({\n",
    "    'font_name': 'Times New Roman',\n",
    "    'font_size': 10})\n",
    "    \n",
    "# zapis tabeli w podanym arkuszu i zainicjowanie z niego zmiennej z tabelą\n",
    "df2.to_excel(writer, sheet_name='Arkusz1', startcol=-1, header=False)\n",
    "worksheet = writer.sheets['Arkusz1']\n",
    "    \n",
    "worksheet.set_column(0, 0, 6, cell_format)\n",
    "worksheet.set_column(1, 1, 40, busstop_format)\n",
    "worksheet.set_column(f'C:{exc_cols[(len(df2.columns)) - 1]}', 5, cell_format)\n",
    "    \n",
    "# ustawienie daty\n",
    "for c in range(len(df2.columns))[4:]:\n",
    "    for w in range(len(df2.index)):\n",
    "        if type(df2.iloc[w,c]) == datetime.time:\n",
    "            worksheet.write_datetime(f'{exc_cols[c]}{w+1}', df2.iloc[w, c], date_format)\n",
    "\n",
    "for r in range(len(df2[0])):\n",
    "    if df2.iloc[r,0] == 'nr słupka':\n",
    "        ns = r\n",
    "        w1 = True\n",
    "        continue\n",
    "    if type(df2.iloc[r,0]) != float:\n",
    "        if w1 == True:\n",
    "            worksheet.conditional_format(f'A{ns+1}:{exc_cols[row_len(df2,ns)-1]}{r}', {'type': 'no_errors', 'format': border_format})\n",
    "            w1 = False\n",
    "\n",
    "worksheet.conditional_format(f'A{ns+1}:{exc_cols[row_len(df2,ns)-1]}{r+1}', {'type': 'no_errors', 'format': border_format})\n",
    "\n",
    "for r in range(len(df2[0])):\n",
    "    if type(df2.iloc[r,0]) == str and len(df2.iloc[r,0]) > 10:\n",
    "        worksheet.write(r,0, df2.iloc[r,0], title_format)\n",
    "\n",
    "header1 = '&L&18&\"Times New Roman,Bold\"ROZKŁAD JAZDY LINII NR '\n",
    "header2 = '&R&12&\"Times New Roman,Bold\"Rozkład jazdy ważny:\\nod dnia\\ndo dnia 31.12.2027'\n",
    "header = header1+header2\n",
    "worksheet.set_header(header)\n",
    "\n",
    "footer = '&C&10&\"Times New Roman\"&P/&N'\n",
    "worksheet.set_footer(footer)\n",
    "\n",
    "worksheet.set_margins(top=1)\n",
    "\n",
    "worksheet.set_landscape()\n",
    "        \n",
    "writer.save()"
   ]
  },
  {
   "cell_type": "code",
   "execution_count": 12,
   "id": "26d2c0ba",
   "metadata": {},
   "outputs": [
    {
     "name": "stderr",
     "output_type": "stream",
     "text": [
      "C:\\Users\\kozlowskip\\Anaconda3\\lib\\site-packages\\xlsxwriter\\workbook.py:339: UserWarning: Calling close() on already closed file.\n",
      "  warn(\"Calling close() on already closed file.\")\n"
     ]
    }
   ],
   "source": [
    "writer.save()"
   ]
  },
  {
   "cell_type": "code",
   "execution_count": 29,
   "id": "06cd2348",
   "metadata": {},
   "outputs": [],
   "source": [
    "writer.close()"
   ]
  },
  {
   "cell_type": "code",
   "execution_count": null,
   "id": "017c2e50",
   "metadata": {},
   "outputs": [],
   "source": []
  }
 ],
 "metadata": {
  "kernelspec": {
   "display_name": "Python 3 (ipykernel)",
   "language": "python",
   "name": "python3"
  },
  "language_info": {
   "codemirror_mode": {
    "name": "ipython",
    "version": 3
   },
   "file_extension": ".py",
   "mimetype": "text/x-python",
   "name": "python",
   "nbconvert_exporter": "python",
   "pygments_lexer": "ipython3",
   "version": "3.9.7"
  }
 },
 "nbformat": 4,
 "nbformat_minor": 5
}
