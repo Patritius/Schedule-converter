{
 "cells": [
  {
   "cell_type": "code",
   "execution_count": 29,
   "id": "e307202d",
   "metadata": {},
   "outputs": [],
   "source": [
    "import pandas as pd\n",
    "import datetime "
   ]
  },
  {
   "cell_type": "code",
   "execution_count": 18,
   "id": "7ae0ca8f",
   "metadata": {},
   "outputs": [],
   "source": [
    "days = ['R1', 'R2', 'S1', 'S2', 'N1', 'N2']"
   ]
  },
  {
   "cell_type": "code",
   "execution_count": 19,
   "id": "27a9888b",
   "metadata": {},
   "outputs": [],
   "source": [
    "att = pd.read_excel('Temp/Uchw.xls', header=None, usecols='B,E', skiprows=3)"
   ]
  },
  {
   "cell_type": "code",
   "execution_count": 20,
   "id": "9154fc50",
   "metadata": {},
   "outputs": [],
   "source": [
    "def checkList(list):\n",
    "    # funkcja sprawdzająca czy wszystkie elementy w podanej liście są takie same\n",
    "    ele = list[0]\n",
    "    chk = True\n",
    "    for i in list:\n",
    "        if ele != i:\n",
    "            chk = False\n",
    "            break;\n",
    "    return chk"
   ]
  },
  {
   "cell_type": "code",
   "execution_count": 21,
   "id": "213f2264",
   "metadata": {},
   "outputs": [],
   "source": [
    "def table_maker(at,sheetname):\n",
    "\n",
    "    # wczytanie pliku, modyfikacja i zapis do pliku\n",
    "    df = pd.read_excel('Tab.xlsx', sheet_name=sheetname, header=None, engine='openpyxl')\n",
    "    \n",
    "    for ind, row in enumerate(df.values):\n",
    "        lst = [str(j) for j in row[4:]]\n",
    "        if checkList(lst):\n",
    "            df.drop(ind, inplace=True)\n",
    "\n",
    "    for num in range(len(df[0])):\n",
    "        for nr in range(len(at[4])):\n",
    "            if df.iloc[num,0] == at.iloc[nr,1]:\n",
    "                df.iloc[num,1] = at.iloc[nr,0]\n",
    "    \n",
    "    df.iloc[0,0] = 'nr słupka'\n",
    "    df.iloc[0,1] = 'Przystanek'\n",
    "    df.iloc[1,2] = ''\n",
    "    df.iloc[1,3] = ''\n",
    "    \n",
    "    row_count = len(df[0])-1\n",
    "    if sheetname == 'R1' or sheetname == 'R2':\n",
    "        title = pd.DataFrame({0: [f'{df.iloc[1,1]} - {df.iloc[row_count,1]} - DNI ROBOCZE', ' ']}, index=[0,1])\n",
    "    elif sheetname == 'S1' or sheetname == 'S2':\n",
    "        title = pd.DataFrame({0: [f'{df.iloc[1,1]} - {df.iloc[row_count,1]} - SOBOTY', ' ']}, index=[0,1])\n",
    "    elif sheetname == 'N1' or sheetname == 'N2':\n",
    "        title = pd.DataFrame({0: [f'{df.iloc[1,1]} - {df.iloc[row_count,1]} - NIEDZIELE', ' ']}, index=[0,1])\n",
    "    else:\n",
    "        title = pd.DataFrame({0: ['']}, index=[0])\n",
    "    df = pd.concat([title, df]).reset_index(drop=True)\n",
    "    return df"
   ]
  },
  {
   "cell_type": "code",
   "execution_count": 22,
   "id": "a47368fc",
   "metadata": {},
   "outputs": [],
   "source": [
    "def table_style(df,d):\n",
    "    df.to_excel(f'Temp/{d}.xlsx', sheet_name = 'Arkusz1', engine = 'openpyxl')\n",
    "    \n",
    "    # utworzenie listy kolumn z excela oraz ich przedziałów np A1:B1\n",
    "    letters = [chr(let+65) for let in range(26)]\n",
    "    exc_cols = [chr(i+65) if ord(chr(i+65)) < 91 else f'{letters[(i-26)//26]}{letters[(i-26)%26]}' for i in range(len(df.columns))]\n",
    "\n",
    "    writer = pd.ExcelWriter(f'Temp/{d}.xlsx', engine='xlsxwriter')\n",
    "    workbook = writer.book\n",
    "    \n",
    "    date_format = workbook.add_format({\n",
    "        'num_format': 'HH:MM',\n",
    "        'align': 'center',\n",
    "        'valign': 'vcenter',\n",
    "        'font_name': 'Arial Narrow',\n",
    "        'font_size': 10})\n",
    "\n",
    "    cell_format = workbook.add_format({\n",
    "        'align': 'center',\n",
    "        'valign': 'vcenter',\n",
    "        'font_name': 'Arial Narrow',\n",
    "        'font_size': 10})\n",
    "\n",
    "    border_format = workbook.add_format({\n",
    "        'border': 1})\n",
    "\n",
    "    busstop_format = workbook.add_format({\n",
    "        'align': 'left',\n",
    "        'valign': 'vcenter',\n",
    "        'font_name': 'Arial Narrow',\n",
    "        'font_size': 10})\n",
    "    \n",
    "    title_format = workbook.add_format({\n",
    "        'align': 'left',\n",
    "        'valign': 'vcenter',\n",
    "        'font_name': 'Arial Narrow',\n",
    "        'font_size': 18})\n",
    "    \n",
    "    # zapis tabeli w podanym arkuszu i zainicjowanie z niego zmiennej z tabelą\n",
    "    df.to_excel(writer, sheet_name='Arkusz1', startcol=-1, header=False)\n",
    "    worksheet = writer.sheets['Arkusz1']\n",
    "    \n",
    "    worksheet.set_column(0, 0, 6, cell_format)\n",
    "    worksheet.set_column(1, 1, 40, busstop_format)\n",
    "    worksheet.set_column(f'C:{exc_cols[(len(df.columns)) - 1]}', 5, cell_format)\n",
    "    \n",
    "    # ustawienie daty\n",
    "    for c in range(len(df.columns))[4:]:\n",
    "        for w in range(len(df.index))[3:]:\n",
    "            if type(df.iloc[w,c]) != float:\n",
    "                worksheet.write_datetime(f'{exc_cols[c]}{w+1}', df.iloc[w, c], date_format)\n",
    "    \n",
    "    # ustawienie obramowania\n",
    "    worksheet.conditional_format(f'A3:{exc_cols[len(df.columns)-1]}{(len(df.index))}', {'type': 'no_errors', 'format': border_format})\n",
    "    \n",
    "    worksheet.write(0,0, df.iloc[0,0], title_format)\n",
    "    \n",
    "    writer.save()\n",
    "    "
   ]
  },
  {
   "cell_type": "code",
   "execution_count": 35,
   "id": "03053132",
   "metadata": {},
   "outputs": [],
   "source": [
    "for day in days:\n",
    "    df = table_maker(att,day)\n",
    "    table_style(df, day)"
   ]
  },
  {
   "cell_type": "code",
   "execution_count": null,
   "id": "d9eb84fd",
   "metadata": {},
   "outputs": [],
   "source": [
    "writer = pd.ExcelWriter(f'Temp/R1.xlsx', engine='xlsxwriter')\n",
    "workbook = writer.book\n",
    "\n",
    "df.to_excel(writer, sheet_name='Arkusz1', startcol=-1, header=False)\n",
    "worksheet = writer.sheets['Arkusz1']\n",
    "\n",
    "writer.save()"
   ]
  },
  {
   "cell_type": "code",
   "execution_count": 36,
   "id": "45dd41d9",
   "metadata": {},
   "outputs": [
    {
     "ename": "TypeError",
     "evalue": "unsupported operand type(s) for +=: 'Worksheet' and 'Worksheet'",
     "output_type": "error",
     "traceback": [
      "\u001b[1;31m---------------------------------------------------------------------------\u001b[0m",
      "\u001b[1;31mTypeError\u001b[0m                                 Traceback (most recent call last)",
      "\u001b[1;32mC:\\Users\\KOZLOW~1\\AppData\\Local\\Temp/ipykernel_18688/3121064128.py\u001b[0m in \u001b[0;36m<module>\u001b[1;34m\u001b[0m\n\u001b[0;32m      7\u001b[0m \u001b[0mworksheet1\u001b[0m \u001b[1;33m=\u001b[0m \u001b[0mworkbook1\u001b[0m\u001b[1;33m.\u001b[0m\u001b[0madd_worksheet\u001b[0m\u001b[1;33m(\u001b[0m\u001b[1;33m)\u001b[0m\u001b[1;33m\u001b[0m\u001b[1;33m\u001b[0m\u001b[0m\n\u001b[0;32m      8\u001b[0m \u001b[1;33m\u001b[0m\u001b[0m\n\u001b[1;32m----> 9\u001b[1;33m \u001b[0mworksheet\u001b[0m \u001b[1;33m+=\u001b[0m \u001b[0mworksheet1\u001b[0m\u001b[1;33m\u001b[0m\u001b[1;33m\u001b[0m\u001b[0m\n\u001b[0m\u001b[0;32m     10\u001b[0m \u001b[1;33m\u001b[0m\u001b[0m\n\u001b[0;32m     11\u001b[0m \u001b[0mwriter1\u001b[0m\u001b[1;33m.\u001b[0m\u001b[0msave\u001b[0m\u001b[1;33m(\u001b[0m\u001b[1;33m)\u001b[0m\u001b[1;33m\u001b[0m\u001b[1;33m\u001b[0m\u001b[0m\n",
      "\u001b[1;31mTypeError\u001b[0m: unsupported operand type(s) for +=: 'Worksheet' and 'Worksheet'"
     ]
    }
   ],
   "source": [
    "writer = pd.ExcelWriter('Zal_do_zasw.xlsx', engine='xlsxwriter')\n",
    "workbook = writer.book\n",
    "worksheet = workbook.add_worksheet()\n",
    "\n",
    "writer1 = pd.ExcelWriter('Temp/R1.xlsx', engine='xlsxwriter')\n",
    "workbook1 = writer1.book\n",
    "worksheet1 = workbook1.add_worksheet()\n",
    "\n",
    "\n",
    "\n",
    "writer1.save()\n",
    "writer.save()"
   ]
  },
  {
   "cell_type": "code",
   "execution_count": 14,
   "id": "311e769d",
   "metadata": {},
   "outputs": [],
   "source": [
    "R1 = pd.read_excel('Temp/R1.xlsx', sheet_name='Arkusz1', header=None, engine='openpyxl')\n",
    "R2 = pd.read_excel('Temp/R2.xlsx', sheet_name='Arkusz1', header=None, engine='openpyxl')\n",
    "S1 = pd.read_excel('Temp/S1.xlsx', sheet_name='Arkusz1', header=None, engine='openpyxl')\n",
    "S2 = pd.read_excel('Temp/S2.xlsx', sheet_name='Arkusz1', header=None, engine='openpyxl')\n",
    "N1 = pd.read_excel('Temp/N1.xlsx', sheet_name='Arkusz1', header=None, engine='openpyxl')\n",
    "N2 = pd.read_excel('Temp/N2.xlsx', sheet_name='Arkusz1', header=None, engine='openpyxl')"
   ]
  },
  {
   "cell_type": "code",
   "execution_count": 15,
   "id": "00596eca",
   "metadata": {},
   "outputs": [],
   "source": [
    "df2 = pd.concat([R1, R2, S1, S2, N1, N2]).reset_index(drop=True)"
   ]
  },
  {
   "cell_type": "code",
   "execution_count": 16,
   "id": "e5108ee6",
   "metadata": {},
   "outputs": [],
   "source": [
    "df2.to_excel('Zalacznik.xlsx', sheet_name = 'Arkusz1', engine = 'openpyxl')"
   ]
  },
  {
   "cell_type": "code",
   "execution_count": null,
   "id": "9ed12676",
   "metadata": {},
   "outputs": [],
   "source": []
  }
 ],
 "metadata": {
  "kernelspec": {
   "display_name": "Python 3 (ipykernel)",
   "language": "python",
   "name": "python3"
  },
  "language_info": {
   "codemirror_mode": {
    "name": "ipython",
    "version": 3
   },
   "file_extension": ".py",
   "mimetype": "text/x-python",
   "name": "python",
   "nbconvert_exporter": "python",
   "pygments_lexer": "ipython3",
   "version": "3.9.7"
  }
 },
 "nbformat": 4,
 "nbformat_minor": 5
}
